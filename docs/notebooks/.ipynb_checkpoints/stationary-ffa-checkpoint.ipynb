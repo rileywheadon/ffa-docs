{
 "cells": [
  {
   "cell_type": "markdown",
   "id": "edc0f97a",
   "metadata": {},
   "source": [
    "# Stationary FFA\n",
    "\n",
    "Flood frequency analysis (FFA) estimates the severity of streamflow events based on observed data.\n",
    "Results are typically expressed in terms of *return periods* and *return levels*.\n",
    "The *return period* of a flood is the expected number of years between streamflow events of equal or greater severity.\n",
    "The *return level* is the magnitude of the streamflow event, measured in $\\text{m}^3/\\text{s}$.\n",
    "This vignette demonstrates stationary FFA using the `ffaframework` package."
   ]
  },
  {
   "cell_type": "markdown",
   "id": "3f72406e-e788-4b77-bfc9-9502a3519874",
   "metadata": {},
   "source": [
    "\n",
    "## Setup"
   ]
  },
  {
   "cell_type": "code",
   "execution_count": 1,
   "id": "32db749a",
   "metadata": {
    "name": "setup"
   },
   "outputs": [
    {
     "name": "stderr",
     "output_type": "stream",
     "text": [
      "Loading required package: ggplot2\n",
      "\n",
      "Loading required package: patchwork\n",
      "\n"
     ]
    },
    {
     "data": {
      "text/html": [
       "<table class=\"dataframe\">\n",
       "<caption>A data.frame: 6 × 2</caption>\n",
       "<thead>\n",
       "\t<tr><th></th><th scope=col>year</th><th scope=col>max</th></tr>\n",
       "\t<tr><th></th><th scope=col>&lt;int&gt;</th><th scope=col>&lt;dbl&gt;</th></tr>\n",
       "</thead>\n",
       "<tbody>\n",
       "\t<tr><th scope=row>14</th><td>1913</td><td>1670</td></tr>\n",
       "\t<tr><th scope=row>15</th><td>1914</td><td>3090</td></tr>\n",
       "\t<tr><th scope=row>16</th><td>1915</td><td>2760</td></tr>\n",
       "\t<tr><th scope=row>17</th><td>1916</td><td>2080</td></tr>\n",
       "\t<tr><th scope=row>18</th><td>1917</td><td>2490</td></tr>\n",
       "\t<tr><th scope=row>19</th><td>1918</td><td>1470</td></tr>\n",
       "</tbody>\n",
       "</table>\n"
      ],
      "text/latex": [
       "A data.frame: 6 × 2\n",
       "\\begin{tabular}{r|ll}\n",
       "  & year & max\\\\\n",
       "  & <int> & <dbl>\\\\\n",
       "\\hline\n",
       "\t14 & 1913 & 1670\\\\\n",
       "\t15 & 1914 & 3090\\\\\n",
       "\t16 & 1915 & 2760\\\\\n",
       "\t17 & 1916 & 2080\\\\\n",
       "\t18 & 1917 & 2490\\\\\n",
       "\t19 & 1918 & 1470\\\\\n",
       "\\end{tabular}\n"
      ],
      "text/markdown": [
       "\n",
       "A data.frame: 6 × 2\n",
       "\n",
       "| <!--/--> | year &lt;int&gt; | max &lt;dbl&gt; |\n",
       "|---|---|---|\n",
       "| 14 | 1913 | 1670 |\n",
       "| 15 | 1914 | 3090 |\n",
       "| 16 | 1915 | 2760 |\n",
       "| 17 | 1916 | 2080 |\n",
       "| 18 | 1917 | 2490 |\n",
       "| 19 | 1918 | 1470 |\n",
       "\n"
      ],
      "text/plain": [
       "   year max \n",
       "14 1913 1670\n",
       "15 1914 3090\n",
       "16 1915 2760\n",
       "17 1916 2080\n",
       "18 1917 2490\n",
       "19 1918 1470"
      ]
     },
     "metadata": {},
     "output_type": "display_data"
    }
   ],
   "source": [
    "options(repr.plot.width = 12, repr.plot.height = 10) # Set plot sizes\n",
    "\n",
    "library(ffaframework)\n",
    "csv_path <- system.file(\"extdata\", \"Application_1.csv\", package = \"ffaframework\")\n",
    "df <- read.csv(csv_path)\n",
    "df <- subset(df, !is.na(max)) # Remove missing values\n",
    "head(df)"
   ]
  },
  {
   "cell_type": "markdown",
   "id": "817f91b2",
   "metadata": {},
   "source": [
    "## Distribution Selection\n",
    "\n",
    "In the first stage of FFA, a suitable probability distribution for the data is selected.\n",
    "The `ffaframework` package includes three L-moment-based metrics for selecting a suitable distribution:\n",
    "\n",
    "1. `select_ldistance` chooses the distribution whose theoretical L-skewness ($t_3$) and L-kurtosis ($t_4$) have the smallest Euclidean distance from the sample point.\n",
    "2. `select_lkurtosis` matches theoretical L-kurtosis to the sample L-kurtosis.\n",
    "3. `select_zstatistic` uses a fitted 4-parameter Kappa distribution to estimate the sampling distribution of the L-kurtosis and selects the distribution with the smallest z-statistic.\n",
    "\n",
    "The `select_ldistance` metric will be used in this vignette.\n",
    "\n",
    "The `plot_lmom_diagram` function displays the results of distribution selection."
   ]
  },
  {
   "cell_type": "code",
   "execution_count": null,
   "id": "570101a8",
   "metadata": {
    "fig.align": "center",
    "fig.height": 8,
    "fig.width": 10,
    "out.width": "100%"
   },
   "outputs": [],
   "source": [
    "selection <- select_ldistance(df$max)\n",
    "\n",
    "print(selection$recommendation)\n",
    "\n",
    "plot_lmom_diagram(selection)"
   ]
  },
  {
   "cell_type": "markdown",
   "id": "7860a4b5-8547-4c9f-95cd-10b64bb338d8",
   "metadata": {},
   "source": [
    "In this case, `select_ldistance` recommended the generalized extreme value (GEV) distribution.\n",
    "For information about the other distributions, see the `selection$metrics` item.\n",
    "On the L-moments diagram, the GEV distribution (indicated by the yellow line), is the closest to the sample L-moments (indicated by the black triangle).\n",
    "You can find more information about the probability distributions supported by the framework [here](https://rileywheadon.github.io/ffa-docs/distributions/).\n"
   ]
  },
  {
   "cell_type": "markdown",
   "id": "0e9743d3",
   "metadata": {},
   "source": [
    "\n",
    "## Parameter Estimation\n",
    "\n",
    "After selecting a distribution, the next step is parameter estimation.\n",
    "The `ffaframework` package provides two methods for parameter estimation:\n",
    "\n",
    "- `fit_lmom_*`: L-moments \n",
    "- `fit_maximum_likelihood`: Maximum likelihood \n",
    "\n",
    "See [here](https://rileywheadon.github.io/ffa-docs/parameter-estimation/) for more information.\n",
    "\n",
    "This vignette will use L-moments parameter estimation.\n",
    "Each distribution has its own method for L-moment parameter estimation with the prefix `fit_lmom`. \n",
    "The `fit_lmom_gev` method estimates the parameters of the generalized extreme value (GEV) distribution, the recommended distribution from the previous step."
   ]
  },
  {
   "cell_type": "code",
   "execution_count": null,
   "id": "6aac4a87",
   "metadata": {},
   "outputs": [],
   "source": [
    "params <- fit_lmom_gev(df$max)\n",
    "\n",
    "print(params)"
   ]
  },
  {
   "cell_type": "markdown",
   "id": "79f0d543",
   "metadata": {},
   "source": [
    "## Uncertainty Quantification\n",
    "\n",
    "Given a fitted probability distribution it is easy to estimate the return levels. \n",
    "However, point estimates alone are insufficient; confidence intervals should also be reported.\n",
    "The `uncertainty_bootstrap` function performs uncertainty quantification using the sample bootstrap method. It requires three arguments:\n",
    "\n",
    "- `data`: A vector of annual maximum streamflow observations.\n",
    "- `model`: A three-letter code for a probability distribution (ex. `\"GEV\"`)\n",
    "- `method`: A parameter estimation method. Must be `\"L-moments\"`, `\"MLE\"`, or `\"GMLE\"`.\n",
    "\n",
    "By default, return levels are computed 2-, 5-, 10-, 20-, 50-, and 100- year return periods. \n",
    "The `plot_uncertainty` method generates a plot of the results."
   ]
  },
  {
   "cell_type": "code",
   "execution_count": null,
   "id": "cb59aced",
   "metadata": {
    "fig.align": "center",
    "fig.height": 8,
    "fig.width": 10,
    "out.width": "100%"
   },
   "outputs": [],
   "source": [
    "uncertainty <- uncertainty_bootstrap(df$max, \"GEV\", \"L-moments\")\n",
    "\n",
    "plot_uncertainty(uncertainty)"
   ]
  },
  {
   "cell_type": "markdown",
   "id": "3e523bd8",
   "metadata": {},
   "source": [
    "## Model Assessment\n",
    "\n",
    "Model performance is assessed using `model_diagnostics`, which reports a collection of assessment statistics about the flood frequency analysis.\n",
    "Many of these assessment statistics are determined by comparing the predictions of the parametric model with the empirical plotting positions (see [here](https://rileywheadon.github.io/ffa-docs/model-assessment/) for more information).\n",
    "\n",
    "The `plot_model_diagnostics` generates a visual comparison of the empirical plotting positions (the \"Observed Quantiles\") and the predictions of the parametric model (the \"Model Quantiles\"). \n",
    "The black line represents a perfect 1:1 correspondence between the model and the data."
   ]
  },
  {
   "cell_type": "code",
   "execution_count": null,
   "id": "d9eb50a8",
   "metadata": {
    "fig.align": "center",
    "fig.height": 8,
    "fig.width": 10,
    "out.width": "100%"
   },
   "outputs": [],
   "source": [
    "diagnostics <- model_diagnostics(df$max, \"GEV\", params, uncertainty)\n",
    "\n",
    "plot_model_diagnostics(diagnostics)"
   ]
  },
  {
   "cell_type": "markdown",
   "id": "243edf14-ddb4-4ba8-9760-c3f24e43601b",
   "metadata": {},
   "source": [
    "The plot shows that the parametric model is closely aligned with the empirical plotting positions, except for a small negative bias between $3000\\text{m}^3/\\text{s}$ and $4500\\text{m}^3/\\text{s}$.\n"
   ]
  },
  {
   "cell_type": "markdown",
   "id": "8b6bf0b0",
   "metadata": {
    "jp-MarkdownHeadingCollapsed": true
   },
   "source": [
    "\n",
    "## Conclusion\n",
    "\n",
    "This vignette demonstrated a complete stationary FFA workflow using the `ffaframework` package.\n",
    "By selecting a distribution, estimating parameters via L-moments, quantifying uncertainty, and assessing model fit, users can generate reproducible and statistically rigorous estimates of return levels for AMS data."
   ]
  }
 ],
 "metadata": {
  "jupytext": {
   "cell_metadata_filter": "fig.height,out.width,name,fig.width,fig.align,tags,-all",
   "main_language": "R",
   "notebook_metadata_filter": "-all"
  },
  "kernelspec": {
   "display_name": "R",
   "language": "R",
   "name": "ir"
  },
  "language_info": {
   "codemirror_mode": "r",
   "file_extension": ".r",
   "mimetype": "text/x-r-source",
   "name": "R",
   "pygments_lexer": "r",
   "version": "4.5.1"
  }
 },
 "nbformat": 4,
 "nbformat_minor": 5
}
