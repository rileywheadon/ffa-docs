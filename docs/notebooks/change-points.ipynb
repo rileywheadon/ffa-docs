{
 "cells": [
  {
   "cell_type": "raw",
   "id": "e02ef2a6",
   "metadata": {},
   "source": [
    "---\n",
    "title: \"Change Point Detection\"\n",
    "output: \n",
    "  rmarkdown::html_document:\n",
    "    theme: readable\n",
    "vignette: >\n",
    "  %\\VignetteIndexEntry{Change Point Detection}\n",
    "  %\\VignetteEngine{knitr::rmarkdown}\n",
    "  %\\VignetteEncoding{UTF-8}\n",
    "---"
   ]
  },
  {
   "cell_type": "code",
   "execution_count": null,
   "id": "51ef914a",
   "metadata": {
    "tags": [
     "remove_cell"
    ]
   },
   "outputs": [],
   "source": [
    "knitr::opts_chunk$set(\n",
    "  collapse = TRUE,\n",
    "  comment = \"#>\"\n",
    ")"
   ]
  },
  {
   "cell_type": "markdown",
   "id": "3a3910ac",
   "metadata": {},
   "source": [
    "A *change point* is a structural shift in the data, such as a jump in mean or a change in trend.\n",
    "Before conducting flood frequency analysis, we recommend splitting the data at change points to ensure each segment is approximately *trend-stationarity*.\n",
    "The FFA framework provides two statistical tests for change point detection: \n",
    "\n",
    "- The Pettitt test, for sudden changes in the mean.\n",
    "- The Mann-Kendall-Sneyers (MKS) test, for detecting changes in trend.\n",
    "\n",
    "This vignette will demonstrate how these statistical tests can be used together to robustly identify change points in the data.\n",
    "\n",
    "## Setup "
   ]
  },
  {
   "cell_type": "code",
   "execution_count": null,
   "id": "5f012166",
   "metadata": {
    "name": "setup"
   },
   "outputs": [],
   "source": [
    "library(ffaframework)\n",
    "\n",
    "csv_path <- system.file(\"extdata\", \"Application_2.csv\", package = \"ffaframework\")\n",
    "df <- read.csv(csv_path)\n",
    "df <- subset(df, !is.na(max)) # Remove missing values\n",
    "\n",
    "head(df)"
   ]
  },
  {
   "cell_type": "markdown",
   "id": "5490fff4",
   "metadata": {},
   "source": [
    "## The Pettitt Test\n",
    "\n",
    "This rank-based test detects a single abrupt change in the median of a time series.\n",
    "The null hypothesis assumes no change point.\n",
    "\n",
    "Use the `eda_pettitt_test` function to perform the test. It requires two arguments: \n",
    "\n",
    "- `data`: numeric vector of streamflow measurements\n",
    "- `years`: corresponding numeric vector of years"
   ]
  },
  {
   "cell_type": "code",
   "execution_count": null,
   "id": "94e77369",
   "metadata": {
    "fig.align": "center",
    "fig.height": 8,
    "fig.width": 10,
    "out.width": "100%"
   },
   "outputs": [],
   "source": [
    "pettitt_test <- eda_pettitt_test(df$max, df$year)\n",
    "\n",
    "print(pettitt_test$p_value)\n",
    "\n",
    "print(pettitt_test$change_year)\n",
    "\n",
    "plot_pettitt_test(pettitt_test)"
   ]
  },
  {
   "cell_type": "markdown",
   "id": "3ab58805",
   "metadata": {},
   "source": [
    "**Conclusion**: A p-value of 0 provides strong evidence of a change point in the year 1972.\n",
    "\n",
    "## The MKS Test\n",
    "\n",
    "The Mann-Kendall-Sneyers (MKS) test identifies trend changes in the data.\n",
    "\n",
    "Use `eda_mks_test` with the same arguments as above."
   ]
  },
  {
   "cell_type": "code",
   "execution_count": null,
   "id": "242c80ed",
   "metadata": {
    "fig.align": "center",
    "fig.height": 8,
    "fig.width": 10,
    "out.width": "100%"
   },
   "outputs": [],
   "source": [
    "mks_test <- eda_mks_test(df$max, df$year)\n",
    "\n",
    "print(mks_test$p_value)\n",
    "\n",
    "print(mks_test$change_df$year)\n",
    "\n",
    "plot_mks_test(mks_test)"
   ]
  },
  {
   "cell_type": "markdown",
   "id": "63d64cae",
   "metadata": {},
   "source": [
    "**Conclusion**: At a p-value of 0.015, there is evidence of trend changes in 1960 and 1985.\n",
    "\n",
    "**Note**: Since the MKS test can identify multiple change points, the reported p-value is determined using the *most significant* change point.\n",
    "\n",
    "## Interpreting and Selecting Change Points\n",
    "\n",
    "In this example, the Pettitt and MKS tests both suggest structural changes in the time series.\n",
    "\n",
    "Consider the following guidelines when choosing where to split the data:\n",
    "\n",
    "1. **Incorporate domain knowledge**. For example, if we knew that a dam was built in 1972, this would support the Pettitt test result.\n",
    "2. **Avoid overpartitioning**. The Pettitt and MKS tests operate independently and may detect the same change point independently.\n",
    "3. **Prioritize based on p-value**. Lower p-values indicate stronger evidence and should be given more weight.\n",
    "4. **Conduct recursive analysis**. After splitting the series, consider reapplying the tests to each segment to detect secondary change points. For example, after splitting at 1972, reapply the MKS test to 1928–1971 and 1972–2020."
   ]
  }
 ],
 "metadata": {
  "jupytext": {
   "cell_metadata_filter": "fig.height,out.width,tags,name,fig.width,fig.align,-all",
   "main_language": "R",
   "notebook_metadata_filter": "-all"
  }
 },
 "nbformat": 4,
 "nbformat_minor": 5
}
