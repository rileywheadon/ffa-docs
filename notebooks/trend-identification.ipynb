{
 "cells": [
  {
   "cell_type": "raw",
   "id": "a35b9597",
   "metadata": {},
   "source": [
    "---\n",
    "title: \"Trend Identification\"\n",
    "output: \n",
    "  rmarkdown::html_document:\n",
    "    theme: readable\n",
    "vignette: >\n",
    "  %\\VignetteIndexEntry{Trend Identification}\n",
    "  %\\VignetteEngine{knitr::rmarkdown}\n",
    "  %\\VignetteEncoding{UTF-8}\n",
    "---"
   ]
  },
  {
   "cell_type": "code",
   "execution_count": null,
   "id": "5aebed5c",
   "metadata": {
    "tags": [
     "remove_cell"
    ]
   },
   "outputs": [],
   "source": [
    "knitr::opts_chunk$set(\n",
    "  collapse = TRUE,\n",
    "  comment = \"#>\"\n",
    ")"
   ]
  },
  {
   "cell_type": "markdown",
   "id": "5a8c07d5",
   "metadata": {},
   "source": [
    "Many factors can produce *non-stationarity* in annual maximum streamflow (AMS) data, including infrastructure, climate change, and land-use regulations.\n",
    "This vignette demonstrates how to use the `ffaframework` to check for non-stationarity.\n",
    "\n",
    "## Overview\n",
    "\n",
    "**Mean Trend Tests**\n",
    "\n",
    "| Function            | Purpose                                                       |\n",
    "|---------------------|---------------------------------------------------------------|\n",
    "| `eda_mk_test`       | Tests for a monotonic trend (Mann-Kendall).                   |\n",
    "| `eda_bbmk_test`     | MK test adjusted for serial correlation via block bootstrapping. |\n",
    "| `eda_sens_trend`    | Estimates slope and intercept of a linear trend (Sen's slope).|\n",
    "| `eda_runs_test`     | Evaluates residual structure under linear model assumptions.  |\n",
    "\n",
    " **Stationarity Tests**\n",
    "\n",
    "| Function            | Purpose                                                       |\n",
    "|---------------------|---------------------------------------------------------------|\n",
    "| `eda_spearman_test` | Tests for serial correlation.                                 |\n",
    "| `eda_kpss_test`     | Tests for a unit root (with the PP test). |\n",
    "| `eda_pp_test`       | Tests for a unit root (with the KPSS test). |\n",
    "\n",
    "**Variance Trend Tests**\n",
    "\n",
    "| Function            | Purpose                                                       |\n",
    "|---------------------|---------------------------------------------------------------|\n",
    "| MWMK Test           | Tests for a trend in the variance.                            |\n",
    "| `eda_white_test`    | Tests for heteroskedasticity (time-dependence in variance).   |\n",
    "\n",
    "## Setup "
   ]
  },
  {
   "cell_type": "code",
   "execution_count": null,
   "id": "1798f185",
   "metadata": {
    "name": "setup"
   },
   "outputs": [],
   "source": [
    "library(ffaframework)\n",
    "\n",
    "csv_path <- system.file(\"extdata\", \"Application_3.3.csv\", package = \"ffaframework\")\n",
    "df <- read.csv(csv_path)\n",
    "df <- subset(df, !is.na(max)) # Remove missing values\n",
    "\n",
    "head(df)"
   ]
  },
  {
   "cell_type": "markdown",
   "id": "7cfdddbf",
   "metadata": {},
   "source": [
    "## Mean Trend Tests\n",
    "\n",
    "### Mann-Kendall (MK) Test\n",
    "\n",
    "The MK test is a non-parametric test used to detect monotonic trends in a time series.\n",
    "Under the null hypothesis there is no trend.\n",
    "\n",
    "Pass a single vector of AMS measurements to `eda_mk_test()` to perform the MK test. "
   ]
  },
  {
   "cell_type": "code",
   "execution_count": null,
   "id": "cd3eec50",
   "metadata": {},
   "outputs": [],
   "source": [
    "mk_test <- eda_mk_test(df$max)\n",
    "\n",
    "print(mk_test$p_value)"
   ]
  },
  {
   "cell_type": "markdown",
   "id": "223a8cd0",
   "metadata": {},
   "source": [
    "**Conclusion**: A p-value of $1.4 \\times 10^{-8}$ provides strong evidence of a trend in the mean.\n",
    "\n",
    "### Spearman Test\n",
    "\n",
    "The Spearman test is used to check for *serial correlation*, which can cause the MK test to identify spurious trend.\n",
    "The smallest lag at which the serial correlation is not statistically significant is known as the \"least lag\". \n",
    "If the least lag is greater than 1, apply the BBMK test to detect a monotonic trend under serial correlation."
   ]
  },
  {
   "cell_type": "code",
   "execution_count": null,
   "id": "17b255ca",
   "metadata": {
    "fig.align": "center",
    "fig.height": 8,
    "fig.width": 10,
    "out.width": "100%"
   },
   "outputs": [],
   "source": [
    "spearman_test <- eda_spearman_test(df$max)\n",
    "\n",
    "print(spearman_test$least_lag)\n",
    "\n",
    "plot_spearman_test(spearman_test)"
   ]
  },
  {
   "cell_type": "markdown",
   "id": "40002f1b",
   "metadata": {},
   "source": [
    "**Conclusion**: A least lag of 5 is evidence of serial correlation.\n",
    "The BBMK test is needed to re-evaluate the presence of a monotonic trend.\n",
    "\n",
    "### Block-Bootstrap Mann-Kendall (BBMK) Test\n",
    "\n",
    "The BBMK test is a modified version of the MK test that accounts for serial correlation.\n",
    "Under the null hypothesis there is no trend."
   ]
  },
  {
   "cell_type": "code",
   "execution_count": null,
   "id": "6b9860d7",
   "metadata": {
    "fig.align": "center",
    "fig.height": 8,
    "fig.width": 10,
    "out.width": "100%"
   },
   "outputs": [],
   "source": [
    "bbmk_test <- eda_bbmk_test(df$max)\n",
    "\n",
    "print(bbmk_test$p_value)\n",
    "\n",
    "plot_bbmk_test(bbmk_test)"
   ]
  },
  {
   "cell_type": "markdown",
   "id": "7121170e",
   "metadata": {},
   "source": [
    "**Conclusion**: There is strong evidence of a monotonic trend in the data, even after accounting for serial correlation.\n",
    "\n",
    "### Sen's Trend Estimator\n",
    "\n",
    "While the previous tests confirm a monotonic trend, they do not estimate its magnitude.\n",
    "We can estimate the monotonic trend using Sen's trend estimator, which uses a non-parametric approach that is robust to outliers.\n",
    "\n",
    "`eda_sens_trend()` takes two arguments: a numeric vector AMS streamflow observations and the corresponding vector of years."
   ]
  },
  {
   "cell_type": "code",
   "execution_count": null,
   "id": "9292d420",
   "metadata": {
    "fig.align": "center",
    "fig.height": 8,
    "fig.width": 10,
    "out.width": "100%"
   },
   "outputs": [],
   "source": [
    "sens_trend <- eda_sens_trend(df$max, df$year)\n",
    "\n",
    "plot_sens_trend(sens_trend, \"mean\")"
   ]
  },
  {
   "cell_type": "markdown",
   "id": "7e2e6c7d",
   "metadata": {},
   "source": [
    "**Conclusion**: Inspection of the data confirms the presence of a monotonic trend.\n",
    "\n",
    "### Runs Test\n",
    "\n",
    "The previous four statistical tests have assumed the non-stationarity is linear.\n",
    "The Wald-Wolfowitz runs test detects non-linearity by checking the residuals for randomness.\n",
    "If the residuals are random (the null hypothesis), there is evidence that the underlying trend is monotonic.\n",
    "\n",
    "The `eda_runs_test()` function takes the output of `eda_sens_trend()` as an argument."
   ]
  },
  {
   "cell_type": "code",
   "execution_count": null,
   "id": "95138d8e",
   "metadata": {
    "fig.align": "center",
    "fig.height": 8,
    "fig.width": 10,
    "out.width": "100%"
   },
   "outputs": [],
   "source": [
    "runs_test <- eda_runs_test(sens_trend)\n",
    "\n",
    "print(runs_test$p_value)\n",
    "\n",
    "plot_runs_test(runs_test, \"mean\")"
   ]
  },
  {
   "cell_type": "markdown",
   "id": "3ea5bfce",
   "metadata": {},
   "source": [
    "**Conclusion**: At a p-value of $0.682$, there is evidence that a monotonic trend is suitable for the data.\n",
    "\n",
    "## Trends in the Variance \n",
    "\n",
    "### Moving-Window Mann-Kendall (MWMK) Test\n",
    "\n",
    "The MWMK test is used to detect trends in the variance of a time series.\n",
    "First, a moving-window algorithm is used to estimate the variance of the AMS data.\n",
    "Then, the Mann-Kendall test is applied to the series of variances to check for a trend.\n",
    "\n",
    "The `ams_mw_variance` estimates the moving-window variances and the `eda_mk_test` function performs the Mann-Kendall test."
   ]
  },
  {
   "cell_type": "code",
   "execution_count": null,
   "id": "24f85706",
   "metadata": {},
   "outputs": [],
   "source": [
    "mw <- ams_mw_variance(df$max, df$year)\n",
    "mwmk_test <- eda_mk_test(mw$std)\n",
    "print(mwmk_test$p_value)"
   ]
  },
  {
   "cell_type": "markdown",
   "id": "8dc4f9ef",
   "metadata": {},
   "source": [
    "**Conclusion**: At a p-value of 0.0024, there is evidence of a monotonic trend in the variance. \n",
    "\n",
    "### White Test\n",
    "\n",
    "The White test checks for *heteroskedasticity*, or general time-dependence in the variance.\n",
    "The null hypothesis is *homoskedasticity*, or constant variance in the data."
   ]
  },
  {
   "cell_type": "code",
   "execution_count": null,
   "id": "a68023b4",
   "metadata": {},
   "outputs": [],
   "source": [
    "white_test <- eda_white_test(df$max, df$year)\n",
    "print(white_test$p_value)"
   ]
  },
  {
   "cell_type": "markdown",
   "id": "6002fc07",
   "metadata": {},
   "source": [
    "**Conclusion**: At a p-value of 0.13, there is no evidence of heteroskedasticity. \n",
    "\n",
    "## Conclusion\n",
    "\n",
    "- Even after adjusting for serial correlation, **there is non-stationarity in the mean**.\n",
    "- Additionally, the MWMK test provides evidence of **non-stationarity in the variance**. \n",
    "\n",
    "Flood frequency analysis of this dataset requires a time-dependent probability model.\n"
   ]
  }
 ],
 "metadata": {
  "jupytext": {
   "cell_metadata_filter": "fig.height,out.width,tags,name,fig.width,fig.align,-all",
   "main_language": "R",
   "notebook_metadata_filter": "-all"
  }
 },
 "nbformat": 4,
 "nbformat_minor": 5
}
