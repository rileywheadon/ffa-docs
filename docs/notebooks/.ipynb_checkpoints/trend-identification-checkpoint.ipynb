{
 "cells": [
  {
   "cell_type": "markdown",
   "id": "02e65cc4",
   "metadata": {},
   "source": [
    "# Trend Identification\n",
    "\n",
    "Identifying *non-stationarity* in annual maximum streamflow (AMS) data is essential for performing robust flood frequency analysis (FFA).\n",
    "The FFA framework provides multiple statistical tests for this purpose, as summarized below:\n",
    "\n",
    "**Mean Trend Tests**\n",
    "\n",
    "| Function            | Purpose                                                       |\n",
    "|---------------------|---------------------------------------------------------------|\n",
    "| `eda_mk_test`       | Tests for a monotonic trend (Mann-Kendall).                   |\n",
    "| `eda_bbmk_test`     | MK test adjusted for autocorrelation via block bootstrapping. |\n",
    "| `eda_sens_trend`    | Estimates slope and intercept of a linear trend (Sen's slope).|\n",
    "| `eda_runs_test`     | Evaluates residual structure under linear model assumptions.  |\n",
    "\n",
    " **Stationarity Tests**\n",
    "\n",
    "| Function            | Purpose                                                       |\n",
    "|---------------------|---------------------------------------------------------------|\n",
    "| `eda_spearman_test` | Tests for serial correlation.                                 |\n",
    "| `eda_kpss_test`     | Tests for trend stationarity.                                 |\n",
    "| `eda_pp_test`       | Tests for unit root non-stationarity.                         |\n",
    "\n",
    "**Variance Trend Tests**\n",
    "\n",
    "| Function            | Purpose                                                       |\n",
    "|---------------------|---------------------------------------------------------------|\n",
    "| MWMK Test           | Tests for a trend in the variance.                            |\n",
    "| `eda_white_test`    | Tests for heteroskedasticity (time-dependence in variance).   |\n",
    "\n",
    "This vignette is an example of how these tests can be performed in sequence to identify trends in the mean and variance of a dataset."
   ]
  },
  {
   "cell_type": "markdown",
   "id": "0743d471-412b-4d19-b880-515e817e5549",
   "metadata": {},
   "source": [
    "## Setup "
   ]
  },
  {
   "cell_type": "code",
   "execution_count": null,
   "id": "0777d33e",
   "metadata": {
    "name": "setup"
   },
   "outputs": [],
   "source": [
    "options(repr.plot.width = 12, repr.plot.height = 10) # Set plot sizes\n",
    "\n",
    "library(ffaframework)\n",
    "csv_path <- system.file(\"extdata\", \"Application_3.3.csv\", package = \"ffaframework\")\n",
    "df <- read.csv(csv_path)\n",
    "df <- subset(df, !is.na(max)) # Remove missing values\n",
    "head(df)"
   ]
  },
  {
   "cell_type": "markdown",
   "id": "1b9bbab9",
   "metadata": {},
   "source": [
    "## Trends in the Mean\n",
    "\n",
    "### Mann-Kendall (MK) Test\n",
    "\n",
    "The MK test is a non-parametric statistical test used to detect monotonic trends in time series data.\n",
    "It uses a rank correlation-based statistic and assumes no serial correlation (more on this later).\n",
    "Use `eda_mk_test()` to perform the MK test, which takes a single numeric vector of AMS measurements. "
   ]
  },
  {
   "cell_type": "code",
   "execution_count": null,
   "id": "b029e8a6",
   "metadata": {},
   "outputs": [],
   "source": [
    "mk_test <- eda_mk_test(df$max)\n",
    "\n",
    "print(mk_test$p_value)"
   ]
  },
  {
   "cell_type": "markdown",
   "id": "60c849f0-a2d4-4208-8292-17ef58054102",
   "metadata": {},
   "source": [
    "Since the p-value is significantly lower than the standard significance threshold of 0.05, there is evidence of a monotonic trend."
   ]
  },
  {
   "cell_type": "markdown",
   "id": "02a46420",
   "metadata": {},
   "source": [
    "### Spearman Test\n",
    "\n",
    "The Spearman test is used to detect *serial correlation*, or correlation with previous values in a time series.\n",
    "This test is important because the MK test assumes that there is no serial correlation, so a positive result from the Spearman test suggests that further analysis is required.\n",
    "Use `eda_spearman_test()` to evaluate the presence of serial correlation in the AMS series. Like the MK test, it requires a single numeric vector of observations.\n",
    "\n",
    "The Spearman test reports the \"least lag\", which is the smallest lag at which the serial correlation becomes statistically insignificant.\n",
    "If the least lag is greater than zero, apply the BBMK test to account for serial correlation.\n",
    "Visualize the results of the Spearman test with `plot_spearman_test()`."
   ]
  },
  {
   "cell_type": "code",
   "execution_count": null,
   "id": "b3284fb6",
   "metadata": {
    "fig.align": "center",
    "fig.height": 8,
    "fig.width": 10,
    "out.width": "100%"
   },
   "outputs": [],
   "source": [
    "spearman_test <- eda_spearman_test(df$max)\n",
    "\n",
    "print(spearman_test$least_lag)\n",
    "\n",
    "plot_spearman_test(spearman_test)"
   ]
  },
  {
   "cell_type": "markdown",
   "id": "e8a1801b-0b5c-4cd4-a608-6deb8e98f596",
   "metadata": {},
   "source": [
    "The Spearman test identified a least lag of 4, which means that there is statistically significant serial correlation in the data.\n",
    "Now, the BBMK test will be used to re-evaluate the presence of a monotonic trend."
   ]
  },
  {
   "cell_type": "markdown",
   "id": "cae371ac",
   "metadata": {},
   "source": [
    "### Block-Bootstrap Mann-Kendall (BBMK) Test\n",
    "\n",
    "The BBMK test is a modified version of the MK test that accounts for serial correlation.\n",
    "It uses a block-based reshuffling algorithm to estimate the distribution of the Mann-Kendall test statistic.\n",
    "Perform the BBMK test by passing a numeric vector of AMS observations to `eda_bbmk_test()` and visualize the results with `plot_bbmk_test()`."
   ]
  },
  {
   "cell_type": "code",
   "execution_count": null,
   "id": "791039fc",
   "metadata": {
    "fig.align": "center",
    "fig.height": 8,
    "fig.width": 10,
    "out.width": "100%"
   },
   "outputs": [],
   "source": [
    "bbmk_test <- eda_bbmk_test(df$max)\n",
    "\n",
    "print(bbmk_test$p_value)\n",
    "\n",
    "plot_bbmk_test(bbmk_test)"
   ]
  },
  {
   "cell_type": "markdown",
   "id": "b7d31d90-d090-4122-976d-e27cbd8ec71d",
   "metadata": {},
   "source": [
    "The plot shows that the S-statistic of the data is outside the empirically identified confidence bounds.\n",
    "Therefore, there remains strong evidence of a monotonic trend in the data."
   ]
  },
  {
   "cell_type": "markdown",
   "id": "e8182ca0",
   "metadata": {},
   "source": [
    "### Sen's Trend Estimator\n",
    "\n",
    "While the previous tests confirm a monotonic trend, they do not estimate its magnitude.\n",
    "We can estimate the monotonic trend using the non-parametric Sen's trend estimator, which uses the median of the pairwise slopes between data points.\n",
    "\n",
    "The `eda_sens_trend()` function takes two arguments: a numeric vector AMS streamflow observations and the corresponding vector of years.\n",
    "Internally, the vector of years is transformed into a *covariate*, using the formula:\n",
    "\n",
    "$$\n",
    "\\text{Covariate} = \\frac{\\text{Years} - 1900}{100}\n",
    "$$ \n",
    "\n",
    "`plot_sens_trend()` overlays the trend line on a covariate-transformed plot of the data.\n",
    "In addition to the list returned by `eda_sens_trend()`, the `plot_sens_trend()` method also requires the argument `type` (either `\"mean\"` or `\"variance\"`), which is used to set the title and axis labels."
   ]
  },
  {
   "cell_type": "code",
   "execution_count": null,
   "id": "4ed0376e",
   "metadata": {
    "fig.align": "center",
    "fig.height": 8,
    "fig.width": 10,
    "out.width": "100%"
   },
   "outputs": [],
   "source": [
    "sens_trend <- eda_sens_trend(df$max, df$year)\n",
    "\n",
    "plot_sens_trend(sens_trend, \"mean\")"
   ]
  },
  {
   "cell_type": "markdown",
   "id": "e90ac8ad",
   "metadata": {},
   "source": [
    "### Runs Test\n",
    "\n",
    "While Sen's trend estimator is a robust way to estimate monotonic trends, it fails if the underlying trend is nonlinear.\n",
    "The Wald-Wolfowitz runs test detects nonlinearity by assessing randomness in the residuals.\n",
    "If the residuals are random (the null hypothesis), there is evidence that the underlying trend is monotonic.\n",
    "\n",
    "The `eda_runs_test()` function takes the output of `eda_sens_trend()` as an argument.\n",
    "Results can be visualized using `plot_runs_test()`, which requires the same `type` argument as `plot_sens_trend()`."
   ]
  },
  {
   "cell_type": "code",
   "execution_count": null,
   "id": "dcc16ea6",
   "metadata": {
    "fig.align": "center",
    "fig.height": 8,
    "fig.width": 10,
    "out.width": "100%"
   },
   "outputs": [],
   "source": [
    "runs_test <- eda_runs_test(sens_trend)\n",
    "\n",
    "print(runs_test$p_value)\n",
    "\n",
    "plot_runs_test(runs_test, \"mean\")"
   ]
  },
  {
   "cell_type": "markdown",
   "id": "66b5676c-0837-435b-9447-f735ffa9b940",
   "metadata": {},
   "source": [
    "At a p-value of $0.682$, there is no evidence that a monotonic trend is not suitable for the data.\n",
    "This concludes our analysis of trends in the mean."
   ]
  },
  {
   "cell_type": "markdown",
   "id": "be1844ba",
   "metadata": {},
   "source": [
    "## Trends in the Variance \n",
    "\n",
    "### Moving-Window Mann-Kendall (MWMK) Test\n",
    "\n",
    "The MWMK test is used to detect trends in the variance of a time series.\n",
    "First, it uses a moving-window algorithm to estimate the variance of the AMS data.\n",
    "Then, the Mann-Kendall test is applied to the series of variances to check for a trend.\n",
    "\n",
    "First, estimate the moving-window variance using `ams_mw_variance`.\n",
    "It takes two arguments: the AMS observations and the corresponding vector of years.\n",
    "The method returns a list with two vectors: `std`, a vector of variances, and `year`, a vector of the average year within each window. "
   ]
  },
  {
   "cell_type": "code",
   "execution_count": null,
   "id": "f7782002",
   "metadata": {},
   "outputs": [],
   "source": [
    "mw <- ams_mw_variance(df$max, df$year)\n",
    "mwmk_test <- eda_mk_test(mw$std)\n",
    "print(mwmk_test$p_value)"
   ]
  },
  {
   "cell_type": "markdown",
   "id": "c3013a2e-b655-4bd4-bac4-ec51a3d5a7db",
   "metadata": {},
   "source": [
    "At a p-value of 0.13, there is evidence that the time series is homoskedastic. "
   ]
  },
  {
   "cell_type": "markdown",
   "id": "e47227d3",
   "metadata": {},
   "source": [
    "### White Test\n",
    "\n",
    "The White test checks for *heteroskedasticity*, or general time-dependence in the variance.\n",
    "The null hypothesis is *homoskedasticity*, or constant variance in the data.\n",
    "Perform the White test by passing the AMS observations and vector of years to `eda_white_test`."
   ]
  },
  {
   "cell_type": "code",
   "execution_count": null,
   "id": "b96d4910",
   "metadata": {},
   "outputs": [],
   "source": [
    "white_test <- eda_white_test(df$max, df$year)\n",
    "print(white_test$p_value)"
   ]
  },
  {
   "cell_type": "markdown",
   "id": "5b1d3f61-e321-4d0b-809e-c0a371a67a73",
   "metadata": {},
   "source": [
    "At a p-value of 0.13, there is evidence that the time series is homoskedastic. "
   ]
  },
  {
   "cell_type": "markdown",
   "id": "caac8748",
   "metadata": {},
   "source": [
    "### Trend Estimation\n",
    "\n",
    "Estimate the variance trend using `eda_sens_trend()` and `eda_runs_test()` if either test detects non-stationarity.\n",
    "To estimate the trend and check for monotonicity, use the `eda_sens_trend` and `eda_runs_test` methods as described above."
   ]
  }
 ],
 "metadata": {
  "jupytext": {
   "cell_metadata_filter": "fig.height,out.width,name,fig.width,fig.align,tags,-all",
   "main_language": "R",
   "notebook_metadata_filter": "-all"
  },
  "kernelspec": {
   "display_name": "R",
   "language": "R",
   "name": "ir"
  },
  "language_info": {
   "codemirror_mode": "r",
   "file_extension": ".r",
   "mimetype": "text/x-r-source",
   "name": "R",
   "pygments_lexer": "r",
   "version": "4.5.1"
  }
 },
 "nbformat": 4,
 "nbformat_minor": 5
}
