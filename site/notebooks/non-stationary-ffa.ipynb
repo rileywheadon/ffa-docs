{
 "cells": [
  {
   "cell_type": "raw",
   "id": "d438f69d",
   "metadata": {},
   "source": [
    "---\n",
    "title: \"Non-Stationary FFA\"\n",
    "output: \n",
    "  rmarkdown::html_document:\n",
    "    theme: readable\n",
    "vignette: >\n",
    "  %\\VignetteIndexEntry{Non-Stationary FFA}\n",
    "  %\\VignetteEngine{knitr::rmarkdown}\n",
    "  %\\VignetteEncoding{UTF-8}\n",
    "---"
   ]
  },
  {
   "cell_type": "code",
   "execution_count": null,
   "id": "2a846448",
   "metadata": {
    "tags": [
     "remove_cell"
    ]
   },
   "outputs": [],
   "source": [
    "knitr::opts_chunk$set(\n",
    "  collapse = TRUE,\n",
    "  comment = \"#>\"\n",
    ")"
   ]
  },
  {
   "cell_type": "markdown",
   "id": "b7a44330",
   "metadata": {},
   "source": [
    "This vignette demonstrates flood frequency analysis (FFA) under *non-stationarity* using the `ffaframework` package.\n",
    "\n",
    "The framework supports three forms of non-stationarity, modelled as linear trends in the distribution parameters:\n",
    "\n",
    "1. A linear trend in the mean (location parameter).\n",
    "2. A linear trend in the variance (scale parameter).\n",
    "3. A linear trend in both the mean and variance.\n",
    "\n",
    "Readers unfamiliar with stationary FFA workflows should first consult the *Stationary FFA* vignette.\n",
    "\n",
    "## Setup"
   ]
  },
  {
   "cell_type": "code",
   "execution_count": null,
   "id": "0841792d",
   "metadata": {
    "name": "setup"
   },
   "outputs": [],
   "source": [
    "library(ffaframework)\n",
    "\n",
    "csv_path <- system.file(\"extdata\", \"Application_3.1.csv\", package = \"ffaframework\")\n",
    "df <- read.csv(csv_path)\n",
    "df <- subset(df, !is.na(max)) # Remove missing values\n",
    "\n",
    "head(df)"
   ]
  },
  {
   "cell_type": "markdown",
   "id": "01b8d7cb",
   "metadata": {},
   "source": [
    "## The `trend` List\n",
    "\n",
    "This vignette assumes prior identification of a trend in the mean."
   ]
  },
  {
   "cell_type": "code",
   "execution_count": null,
   "id": "1519639d",
   "metadata": {},
   "outputs": [],
   "source": [
    "trend <- list(location = TRUE, scale = FALSE)"
   ]
  },
  {
   "cell_type": "markdown",
   "id": "c9ffcaa0",
   "metadata": {},
   "source": [
    "**Note**: For guidance on trend detection, refer to the *Trend Identification* vignette.\n",
    "\n",
    "## Distribution Selection\n",
    "\n",
    "L-moment-based distribution selection remains applicable under non-stationarity, but requires detrending prior to analysis.\n",
    "This is accomplished using the `ams_decomposition` function, which takes a vector of streamflow observations, the corresponding vector of years, and the `trend` object.\n",
    "The decomposed vector of streamflow observations is then passed to the selection function."
   ]
  },
  {
   "cell_type": "code",
   "execution_count": null,
   "id": "aceb59f9",
   "metadata": {
    "fig.align": "center",
    "fig.height": 8,
    "fig.width": 10,
    "out.width": "100%"
   },
   "outputs": [],
   "source": [
    "data_decomposed <- ams_decomposition(df$max, df$year, trend)\n",
    "\n",
    "selection <- select_ldistance(data_decomposed)\n",
    "\n",
    "print(selection$recommendation)\n",
    "\n",
    "plot_lmom_diagram(selection)"
   ]
  },
  {
   "cell_type": "markdown",
   "id": "0ab9e809",
   "metadata": {},
   "source": [
    "**Conclusion**: The generalized normal (GNO) distribution is ideal for the data.\n",
    "\n",
    "## Parameter Estimation\n",
    "\n",
    "Because L-moments parameter estimation requires stationarity, we use maximum likelihood estimation for non-stationary models.\n",
    "The `fit_maximum_likelihood` function implements maximum likelihood estimation for both stationary and non-stationary distributions.\n",
    "It has two required arguments: \n",
    "\n",
    "- `data`: The annual maximum streamflow observations. \n",
    "- `model`: A three-letter code corresponding to a probability distribution (ex. `\"GNO\"`).\n",
    "\n",
    "Since the dataset has a non-stationary trend, two additional arguments are required:\n",
    "\n",
    "- `years`: The corresponding vector of years for the observations in `data`.\n",
    "- `trend`: The non-stationary `trend` object described above."
   ]
  },
  {
   "cell_type": "code",
   "execution_count": null,
   "id": "b98ecf7b",
   "metadata": {},
   "outputs": [],
   "source": [
    "fit <- fit_maximum_likelihood(\n",
    "\tdf$max,\n",
    "\t\"GNO\",\n",
    "\tyears = df$year,\n",
    "\ttrend = trend\n",
    ")\n",
    "\n",
    "print(fit$params)\n",
    "\n",
    "print(fit$mll)"
   ]
  },
  {
   "cell_type": "markdown",
   "id": "eba691fa",
   "metadata": {},
   "source": [
    "**Note**: The fitted parameters are: $(\\mu_0, \\mu_1, \\sigma, \\kappa)$, where the time-dependent location is modeled as $\\mu(t) = \\mu_0 + \\mu_1 t$.\n",
    "\n",
    "## Uncertainty Quantification\n",
    "\n",
    "Uncertainty quantification is also essential for non-stationary probability distributions.\n",
    "In addition to sample bootstrapping, the framework implements the regula-falsi profile likelihood (RFPL) method for MLE.\n",
    "The `uncertainty_rfpl` method has two required arguments:\n",
    "\n",
    "- `data`: The annual maximum streamflow observations. \n",
    "- `model`: A three-letter code corresponding to a probability distribution (ex. `\"GNO\"`).\n",
    "\n",
    "Since the dataset has a non-stationary trend, three additional arguments are required:\n",
    "\n",
    "- `years`: The corresponding vector of years for the observations in `data`.\n",
    "- `trend`: The non-stationary `trend` object described above.\n",
    "- `slices`: The years at which return levels are computed."
   ]
  },
  {
   "cell_type": "code",
   "execution_count": null,
   "id": "cce0a043",
   "metadata": {
    "fig.align": "center",
    "fig.height": 8,
    "fig.width": 10,
    "out.width": "100%"
   },
   "outputs": [],
   "source": [
    "uncertainty <- uncertainty_rfpl(\n",
    "\tdf$max,\n",
    "\t\"GNO\",\n",
    "\tyears = df$year,\n",
    "\ttrend = trend,\n",
    "\tslices = c(1925, 2025)\n",
    ")\n",
    "\n",
    "print(uncertainty[[2]]$estimates)\n",
    "\n",
    "plot_nsffa(uncertainty)"
   ]
  },
  {
   "cell_type": "markdown",
   "id": "bc01c198",
   "metadata": {},
   "source": [
    "**Example Conclusion**: In the year 2025, there is a roughly $1/20$ chance of a streamflow event of  $303.2462\\text{m}^3/\\text{s}$.\n",
    "\n",
    "**Note**: Under non-stationarity, the return period reflects the probability distribution for a fixed year rather than a long-run average.\n",
    "To clarify this difference from stationary FFA, the phrase \"effective return period\" is used."
   ]
  }
 ],
 "metadata": {
  "jupytext": {
   "cell_metadata_filter": "fig.height,out.width,tags,name,fig.width,fig.align,-all",
   "main_language": "R",
   "notebook_metadata_filter": "-all"
  }
 },
 "nbformat": 4,
 "nbformat_minor": 5
}
