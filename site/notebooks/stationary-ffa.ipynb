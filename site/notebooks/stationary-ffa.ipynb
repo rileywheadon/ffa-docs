{
 "cells": [
  {
   "cell_type": "raw",
   "id": "30b3893b",
   "metadata": {},
   "source": [
    "---\n",
    "title: \"Stationary FFA\"\n",
    "output: \n",
    "  rmarkdown::html_document:\n",
    "    theme: readable\n",
    "vignette: >\n",
    "  %\\VignetteIndexEntry{Stationary FFA}\n",
    "  %\\VignetteEngine{knitr::rmarkdown}\n",
    "  %\\VignetteEncoding{UTF-8}\n",
    "---"
   ]
  },
  {
   "cell_type": "code",
   "execution_count": null,
   "id": "e12a8bf4",
   "metadata": {
    "tags": [
     "remove_cell"
    ]
   },
   "outputs": [],
   "source": [
    "knitr::opts_chunk$set(\n",
    "  collapse = TRUE,\n",
    "  comment = \"#>\"\n",
    ")"
   ]
  },
  {
   "cell_type": "markdown",
   "id": "2d569ddf",
   "metadata": {},
   "source": [
    "This vignette demonstrates how to use the `ffaframework` package to perform flood frequency analysis on a *stationary* dataset.\n",
    "\n",
    "The results are expressed in terms of *return periods* and *return levels*:\n",
    "\n",
    "- The *return period* of a flood is the expected number of years between streamflow events of equal or greater severity.\n",
    "- The *return level* is the magnitude of the streamflow event, measured in $\\text{m}^3/\\text{s}$.\n",
    "\n",
    "## Setup"
   ]
  },
  {
   "cell_type": "code",
   "execution_count": null,
   "id": "17dd16f7",
   "metadata": {
    "name": "setup"
   },
   "outputs": [],
   "source": [
    "library(ffaframework)\n",
    "\n",
    "csv_path <- system.file(\"extdata\", \"Application_1.csv\", package = \"ffaframework\")\n",
    "df <- read.csv(csv_path)\n",
    "df <- subset(df, !is.na(max)) # Remove missing values\n",
    "\n",
    "head(df)"
   ]
  },
  {
   "cell_type": "markdown",
   "id": "082c8372",
   "metadata": {},
   "source": [
    "## Distribution Selection\n",
    "\n",
    "First, a suitable probability distribution for the data is selected using the method of L-moments.\n",
    "\n",
    "1. `select_ldistance` chooses the distribution whose theoretical L-skewness ($\\tau_3$) and L-kurtosis ($\\tau_4$) has the smallest Euclidean distance from the sample point.\n",
    "2. `select_lkurtosis` matches the theoretical L-kurtosis to the sample L-kurtosis.\n",
    "3. `select_zstatistic` uses a fitted 4-parameter Kappa distribution to estimate the sampling distribution of the L-kurtosis and selects the distribution with the smallest z-statistic."
   ]
  },
  {
   "cell_type": "code",
   "execution_count": null,
   "id": "3db53507",
   "metadata": {
    "fig.align": "center",
    "fig.height": 8,
    "fig.width": 10,
    "out.width": "100%"
   },
   "outputs": [],
   "source": [
    "selection <- select_ldistance(df$max)\n",
    "\n",
    "print(selection$recommendation)\n",
    "\n",
    "plot_lmom_diagram(selection)"
   ]
  },
  {
   "cell_type": "markdown",
   "id": "26e3d0e9",
   "metadata": {},
   "source": [
    "**Conclusion**: Use the generalized extreme value (GEV) distribution.\n",
    "\n",
    "**Note**: For information about the other distributions, see the `selection$metrics` item.\n",
    "\n",
    "You can find more information about the probability distributions supported by the framework [here](https://rileywheadon.github.io/ffa-docs/distributions/).\n",
    "\n",
    "## Parameter Estimation\n",
    "\n",
    "The `ffaframework` package provides two methods for parameter estimation.\n",
    "See [here](https://rileywheadon.github.io/ffa-docs/parameter-estimation/) for more information.\n",
    "\n",
    "- `fit_lmom_*`: L-moments parameter estimation for each distribution.\n",
    "- `fit_maximum_likelihood`: Maximum likelihood and generalized maximum likelihood."
   ]
  },
  {
   "cell_type": "code",
   "execution_count": null,
   "id": "35e572cb",
   "metadata": {},
   "outputs": [],
   "source": [
    "params <- fit_lmom_gev(df$max)\n",
    "\n",
    "print(params)"
   ]
  },
  {
   "cell_type": "markdown",
   "id": "04e49f53",
   "metadata": {},
   "source": [
    "**Conclusion**: The $\\text{GEV}(1600.22, 616.67, 0.12)$ distribution will be used.\n",
    "\n",
    "## Uncertainty Quantification\n",
    "\n",
    "Given a fitted probability distribution it is easy to estimate the return levels. \n",
    "However, point estimates alone are insufficient; confidence intervals should also be reported.\n",
    "The `uncertainty_bootstrap` function performs uncertainty quantification using the sample bootstrap method. It requires three arguments:\n",
    "\n",
    "- `data`: A vector of annual maximum streamflow observations.\n",
    "- `model`: A three-letter code for a probability distribution (ex. `\"GEV\"`).\n",
    "- `method`: A parameter estimation method. Must be `\"L-moments\"`, `\"MLE\"`, or `\"GMLE\"`.\n",
    "\n",
    "By default, return levels are computed 2-, 5-, 10-, 20-, 50-, and 100- year return periods. "
   ]
  },
  {
   "cell_type": "code",
   "execution_count": null,
   "id": "4b8e3cac",
   "metadata": {
    "fig.align": "center",
    "fig.height": 8,
    "fig.width": 10,
    "out.width": "100%"
   },
   "outputs": [],
   "source": [
    "uncertainty <- uncertainty_bootstrap(df$max, \"GEV\", \"L-moments\")\n",
    "\n",
    "print(uncertainty[[1]]$estimates)\n",
    "\n",
    "plot_sffa(uncertainty)"
   ]
  },
  {
   "cell_type": "markdown",
   "id": "34db4465",
   "metadata": {},
   "source": [
    "**Example Conclusion**: Every 10 years, we can expect a streamflow event of $3194.788\\text{m}^3/\\text{s}$ or greater.\n",
    "\n",
    "## Model Assessment\n",
    "\n",
    "Model performance is assessed using `model_diagnostics`, which reports a collection of assessment statistics about the flood frequency analysis.\n",
    "`plot_model_diagnostics` compares the empirical plotting positions (the \"Observed Quantiles\") and the predictions of the parametric model (the \"Model Quantiles\"). \n",
    "The black line represents a perfect 1:1 correspondence between the model and the data."
   ]
  },
  {
   "cell_type": "code",
   "execution_count": null,
   "id": "9594f7dc",
   "metadata": {
    "fig.align": "center",
    "fig.height": 8,
    "fig.width": 10,
    "out.width": "100%"
   },
   "outputs": [],
   "source": [
    "diagnostics <- model_diagnostics(df$max, \"GEV\", params, uncertainty)\n",
    "\n",
    "plot_model_diagnostics(diagnostics)"
   ]
  },
  {
   "cell_type": "markdown",
   "id": "87a7abed",
   "metadata": {},
   "source": [
    "**Conclusion**: The parametric model generally matches the plotting positions. There is a small positive bias around $4000\\text{m}^3/\\text{s}$."
   ]
  }
 ],
 "metadata": {
  "jupytext": {
   "cell_metadata_filter": "fig.height,out.width,tags,name,fig.width,fig.align,-all",
   "main_language": "R",
   "notebook_metadata_filter": "-all"
  }
 },
 "nbformat": 4,
 "nbformat_minor": 5
}
